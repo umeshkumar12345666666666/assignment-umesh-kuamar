{
 "cells": [
  {
   "cell_type": "code",
   "execution_count": null,
   "id": "0a49a999-23d0-4f22-a264-c8e6528738e2",
   "metadata": {},
   "outputs": [],
   "source": [
    "ans.1"
   ]
  },
  {
   "cell_type": "code",
   "execution_count": 1,
   "id": "0e1593fc-46a2-457c-939a-02051102d707",
   "metadata": {},
   "outputs": [
    {
     "name": "stdout",
     "output_type": "stream",
     "text": [
      "1\n",
      "2\n",
      "3\n",
      "4\n",
      "5\n",
      "6\n",
      "7\n",
      "8\n",
      "9\n",
      "10\n"
     ]
    }
   ],
   "source": [
    "# Using a for loop to print the numbers from 1 to 10\n",
    "for i in range(1, 11):\n",
    "    print(i)\n"
   ]
  },
  {
   "cell_type": "code",
   "execution_count": 2,
   "id": "1dd1a94d-5de1-48f4-a127-73794a9db2b2",
   "metadata": {},
   "outputs": [
    {
     "name": "stdout",
     "output_type": "stream",
     "text": [
      "1024\n"
     ]
    }
   ],
   "source": [
    "# Using a while loop to find the first power of 2 greater than 1000\n",
    "n = 1\n",
    "while n <= 1000:\n",
    "    n *= 2\n",
    "print(n)\n"
   ]
  },
  {
   "cell_type": "code",
   "execution_count": null,
   "id": "784d2be5-1e7b-49ea-b259-80fee73696d3",
   "metadata": {},
   "outputs": [],
   "source": [
    "ans .2"
   ]
  },
  {
   "cell_type": "code",
   "execution_count": 5,
   "id": "77d4443a-267a-464f-9f82-349f414b02bb",
   "metadata": {},
   "outputs": [
    {
     "name": "stdout",
     "output_type": "stream",
     "text": [
      "Sum of first 10 natural numbers: 1\n",
      "Product of first 10 natural numbers: 1\n",
      "Sum of first 10 natural numbers: 3\n",
      "Product of first 10 natural numbers: 2\n",
      "Sum of first 10 natural numbers: 6\n",
      "Product of first 10 natural numbers: 6\n",
      "Sum of first 10 natural numbers: 10\n",
      "Product of first 10 natural numbers: 24\n",
      "Sum of first 10 natural numbers: 15\n",
      "Product of first 10 natural numbers: 120\n",
      "Sum of first 10 natural numbers: 21\n",
      "Product of first 10 natural numbers: 720\n",
      "Sum of first 10 natural numbers: 28\n",
      "Product of first 10 natural numbers: 5040\n",
      "Sum of first 10 natural numbers: 36\n",
      "Product of first 10 natural numbers: 40320\n",
      "Sum of first 10 natural numbers: 45\n",
      "Product of first 10 natural numbers: 362880\n",
      "Sum of first 10 natural numbers: 55\n",
      "Product of first 10 natural numbers: 3628800\n"
     ]
    }
   ],
   "source": [
    "# Using a for loop\n",
    "sum = 0\n",
    "product = 1\n",
    "for i in range(1, 11):\n",
    "    sum += i\n",
    "    product *= i\n",
    "    print(\"Sum of first 10 natural numbers:\", sum)\n",
    "    print(\"Product of first 10 natural numbers:\", product)"
   ]
  },
  {
   "cell_type": "code",
   "execution_count": 6,
   "id": "5b2bdac1-e0c6-4e46-b10c-7ebacab1d0d6",
   "metadata": {},
   "outputs": [
    {
     "name": "stdout",
     "output_type": "stream",
     "text": [
      "Sum of first 10 natural numbers: 55\n",
      "Product of first 10 natural numbers: 3628800\n"
     ]
    }
   ],
   "source": [
    "# Using a while loop\n",
    "i = 1\n",
    "sum = 0\n",
    "product = 1\n",
    "while i <= 10:\n",
    "    sum += i\n",
    "    product *= i\n",
    "    i += 1\n",
    "print(\"Sum of first 10 natural numbers:\", sum)\n",
    "print(\"Product of first 10 natural numbers:\", product)"
   ]
  },
  {
   "cell_type": "code",
   "execution_count": null,
   "id": "49aadb38-f7dc-4bcc-9e91-0b73bdb5774f",
   "metadata": {},
   "outputs": [],
   "source": [
    "ans.3"
   ]
  },
  {
   "cell_type": "code",
   "execution_count": 8,
   "id": "ab76dbfc-bed0-4cdf-a7ce-c19a5b22d08f",
   "metadata": {},
   "outputs": [
    {
     "name": "stdin",
     "output_type": "stream",
     "text": [
      "consumed by the user:  310\n"
     ]
    },
    {
     "name": "stdout",
     "output_type": "stream",
     "text": [
      "Your total bill 2250.0\n"
     ]
    }
   ],
   "source": [
    "units = int(input(\"consumed by the user: \"))\n",
    "total_bill = 0\n",
    "\n",
    "if units <= 100:\n",
    "    total_bill = units * 4.5\n",
    "elif units <= 200:\n",
    "    total_bill = (100 * 4.5) + ((units - 100) * 6)\n",
    "elif units <= 300:\n",
    "    total_bill = (100 * 4.5) + (100 * 6) + ((units - 200) * 10)\n",
    "else:\n",
    "    total_bill = (100 * 4.5) + (100 * 6) + (100 * 10) + ((units - 300) * 20)\n",
    "\n",
    "print(\"Your total bill\", total_bill)"
   ]
  },
  {
   "cell_type": "code",
   "execution_count": null,
   "id": "7315ca72-ce85-4390-add3-97fc5e1826bc",
   "metadata": {},
   "outputs": [],
   "source": [
    "ans.4"
   ]
  },
  {
   "cell_type": "code",
   "execution_count": null,
   "id": "9316346d-114b-465c-85df-a4aca265a3d0",
   "metadata": {},
   "outputs": [],
   "source": [
    "cubes_list = []\n",
    "for i in range(1, 101):\n",
    "    "
   ]
  },
  {
   "cell_type": "code",
   "execution_count": null,
   "id": "ee47cb1c-ac24-43f6-ac09-4e4690f6ffca",
   "metadata": {},
   "outputs": [],
   "source": [
    "ans.5"
   ]
  },
  {
   "cell_type": "code",
   "execution_count": null,
   "id": "32d0903c-f9a6-40b0-b4ff-bac245a89eb3",
   "metadata": {},
   "outputs": [],
   "source": []
  },
  {
   "cell_type": "code",
   "execution_count": 9,
   "id": "5c65e47c-a55b-4249-ab5a-96b4e162cbc2",
   "metadata": {},
   "outputs": [
    {
     "name": "stdout",
     "output_type": "stream",
     "text": [
      "Number of vowels in the string: 12\n"
     ]
    }
   ],
   "source": [
    "string = \"I want to become a data scientist\"\n",
    "\n",
    "# Define a function to filter and count vowels\n",
    "def count_vowels(string):\n",
    "    vowels = \"aeiouAEIOU\"\n",
    "    count = 0\n",
    "    for char in string:\n",
    "        if char in vowels:\n",
    "            count += 1\n",
    "    return count\n",
    "\n",
    "# Call the function and print the result\n",
    "print(\"Number of vowels in the string:\", count_vowels(string))"
   ]
  }
 ],
 "metadata": {
  "kernelspec": {
   "display_name": "Python 3 (ipykernel)",
   "language": "python",
   "name": "python3"
  },
  "language_info": {
   "codemirror_mode": {
    "name": "ipython",
    "version": 3
   },
   "file_extension": ".py",
   "mimetype": "text/x-python",
   "name": "python",
   "nbconvert_exporter": "python",
   "pygments_lexer": "ipython3",
   "version": "3.10.8"
  }
 },
 "nbformat": 4,
 "nbformat_minor": 5
}
